{
  "nbformat": 4,
  "nbformat_minor": 0,
  "metadata": {
    "colab": {
      "name": "BatuGuntingkKertas.ipynb",
      "provenance": [],
      "authorship_tag": "ABX9TyOfhL1rWihgKusrxVMkIa9d",
      "include_colab_link": true
    },
    "kernelspec": {
      "name": "python3",
      "display_name": "Python 3"
    },
    "language_info": {
      "name": "python"
    }
  },
  "cells": [
    {
      "cell_type": "markdown",
      "metadata": {
        "id": "view-in-github",
        "colab_type": "text"
      },
      "source": [
        "<a href=\"https://colab.research.google.com/github/tiaagustiani/Alpro-Tugas-Pribadi-3/blob/main/BatuGuntingKertas.ipynb\" target=\"_parent\"><img src=\"https://colab.research.google.com/assets/colab-badge.svg\" alt=\"Open In Colab\"/></a>"
      ]
    },
    {
      "cell_type": "code",
      "source": [
        "from random import randint\n",
        "def validate(hand):\n",
        "    if hand < 0 or hand > 2:\n",
        "      return False\n",
        "    return True\n",
        "\n",
        "def print_hand(hand, name='Tamu'):\n",
        "    hands = ['Batu', 'Kertas', 'Gunting']\n",
        "    print(name + ' memilih : ' + hands[hand])\n",
        "\n",
        "def judge(player, computer):\n",
        "    if player == computer:\n",
        "      return 'Seri'\n",
        "    elif player == 0 and computer == 1:\n",
        "      return 'Kalah'\n",
        "    elif player == 1 and computer == 2:\n",
        "      return 'Kalah'\n",
        "    elif player == 2 and computer == 0:\n",
        "      return 'Kalah'\n",
        "    else:\n",
        "      return 'Menang'\n",
        "\n",
        "print('Memulai Permainan Batu Kertas Gunting!')\n",
        "player_name = input('Masukkan Nama Anda: ')\n",
        "\n",
        "while True:\n",
        "  print('Pilih Tangan : (0: Batu, 1: Kertas, 2: Gunting)')\n",
        "  player_hand = int(input('Masukkan nomor (0=2): '))\n",
        "\n",
        "  if validate(player_hand):\n",
        "    computer_hand = randint(0,2)\n",
        "\n",
        "    print_hand(player_hand, player_name)\n",
        "    print_hand(computer_hand, 'Komputer')\n",
        "\n",
        "    result = judge(player_hand, computer_hand)\n",
        "    print('Hasil: '+result)\n",
        "\n",
        "    play_again = input('Play again? (y/n): ')\n",
        "    if play_again.lower() != \"y\":\n",
        "      break\n",
        "  else:\n",
        "    print('Mohon masukkan nomor yang benar')"
      ],
      "metadata": {
        "colab": {
          "base_uri": "https://localhost:8080/"
        },
        "id": "QMiVoC71z1_X",
        "outputId": "116e52d9-afb2-43c7-89ca-e8dcb8da2520"
      },
      "execution_count": null,
      "outputs": [
        {
          "output_type": "stream",
          "name": "stdout",
          "text": [
            "Memulai Permainan Batu Kertas Gunting!\n"
          ]
        }
      ]
    }
  ]
}